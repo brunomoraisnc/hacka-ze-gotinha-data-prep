{
  "nbformat": 4,
  "nbformat_minor": 0,
  "metadata": {
    "colab": {
      "name": "HACKA ZE GOTINHA MAPA",
      "version": "0.3.2",
      "provenance": [],
      "collapsed_sections": [],
      "include_colab_link": true
    },
    "kernelspec": {
      "name": "python3",
      "display_name": "Python 3"
    }
  },
  "cells": [
    {
      "cell_type": "markdown",
      "metadata": {
        "id": "view-in-github",
        "colab_type": "text"
      },
      "source": [
        "<a href=\"https://colab.research.google.com/github/brunomoraisnc/hackathon-ze-gotinha-geospatial-data-preparation/blob/master/hackathon_ze_gotinha_geospatial_data_preparation.ipynb\" target=\"_parent\"><img src=\"https://colab.research.google.com/assets/colab-badge.svg\" alt=\"Open In Colab\"/></a>"
      ]
    },
    {
      "cell_type": "code",
      "metadata": {
        "id": "va7ypoElQ898",
        "colab_type": "code",
        "colab": {}
      },
      "source": [
        "import numpy as np\n",
        "import pandas as pd"
      ],
      "execution_count": 0,
      "outputs": []
    },
    {
      "cell_type": "code",
      "metadata": {
        "id": "77VI5AfaRBkM",
        "colab_type": "code",
        "colab": {}
      },
      "source": [
        "municipios_br = pd.read_csv('https://raw.githubusercontent.com/kelvins/Municipios-Brasileiros/master/csv/municipios.csv')\n",
        "# municipios_br = pd.read_excel('AR_BR_RG_UF_MES_MIC_MUN_2018.xls')"
      ],
      "execution_count": 0,
      "outputs": []
    },
    {
      "cell_type": "code",
      "metadata": {
        "id": "gfLXMPuwRMJF",
        "colab_type": "code",
        "outputId": "488ce9ac-bd48-4f23-ea9e-aca0f4982d4c",
        "colab": {
          "base_uri": "https://localhost:8080/",
          "height": 204
        }
      },
      "source": [
        "municipios_br.head()"
      ],
      "execution_count": 0,
      "outputs": [
        {
          "output_type": "execute_result",
          "data": {
            "text/html": [
              "<div>\n",
              "<style scoped>\n",
              "    .dataframe tbody tr th:only-of-type {\n",
              "        vertical-align: middle;\n",
              "    }\n",
              "\n",
              "    .dataframe tbody tr th {\n",
              "        vertical-align: top;\n",
              "    }\n",
              "\n",
              "    .dataframe thead th {\n",
              "        text-align: right;\n",
              "    }\n",
              "</style>\n",
              "<table border=\"1\" class=\"dataframe\">\n",
              "  <thead>\n",
              "    <tr style=\"text-align: right;\">\n",
              "      <th></th>\n",
              "      <th>codigo_ibge</th>\n",
              "      <th>nome</th>\n",
              "      <th>latitude</th>\n",
              "      <th>longitude</th>\n",
              "      <th>capital</th>\n",
              "      <th>codigo_uf</th>\n",
              "    </tr>\n",
              "  </thead>\n",
              "  <tbody>\n",
              "    <tr>\n",
              "      <th>0</th>\n",
              "      <td>5200050</td>\n",
              "      <td>Abadia de Goiás</td>\n",
              "      <td>-16.75730</td>\n",
              "      <td>-49.4412</td>\n",
              "      <td>0</td>\n",
              "      <td>52</td>\n",
              "    </tr>\n",
              "    <tr>\n",
              "      <th>1</th>\n",
              "      <td>3100104</td>\n",
              "      <td>Abadia dos Dourados</td>\n",
              "      <td>-18.48310</td>\n",
              "      <td>-47.3916</td>\n",
              "      <td>0</td>\n",
              "      <td>31</td>\n",
              "    </tr>\n",
              "    <tr>\n",
              "      <th>2</th>\n",
              "      <td>5200100</td>\n",
              "      <td>Abadiânia</td>\n",
              "      <td>-16.19700</td>\n",
              "      <td>-48.7057</td>\n",
              "      <td>0</td>\n",
              "      <td>52</td>\n",
              "    </tr>\n",
              "    <tr>\n",
              "      <th>3</th>\n",
              "      <td>3100203</td>\n",
              "      <td>Abaeté</td>\n",
              "      <td>-19.15510</td>\n",
              "      <td>-45.4444</td>\n",
              "      <td>0</td>\n",
              "      <td>31</td>\n",
              "    </tr>\n",
              "    <tr>\n",
              "      <th>4</th>\n",
              "      <td>1500107</td>\n",
              "      <td>Abaetetuba</td>\n",
              "      <td>-1.72183</td>\n",
              "      <td>-48.8788</td>\n",
              "      <td>0</td>\n",
              "      <td>15</td>\n",
              "    </tr>\n",
              "  </tbody>\n",
              "</table>\n",
              "</div>"
            ],
            "text/plain": [
              "   codigo_ibge                 nome  latitude  longitude  capital  codigo_uf\n",
              "0      5200050      Abadia de Goiás -16.75730   -49.4412        0         52\n",
              "1      3100104  Abadia dos Dourados -18.48310   -47.3916        0         31\n",
              "2      5200100            Abadiânia -16.19700   -48.7057        0         52\n",
              "3      3100203               Abaeté -19.15510   -45.4444        0         31\n",
              "4      1500107           Abaetetuba  -1.72183   -48.8788        0         15"
            ]
          },
          "metadata": {
            "tags": []
          },
          "execution_count": 131
        }
      ]
    },
    {
      "cell_type": "code",
      "metadata": {
        "id": "1fZSbX9QRM_0",
        "colab_type": "code",
        "outputId": "6eb46ff6-9aa8-4148-9536-776a4ba37cd7",
        "colab": {
          "base_uri": "https://localhost:8080/",
          "height": 343
        }
      },
      "source": [
        "gripe_2014 = pd.read_csv('REL_21_06_2019_12_05_10.csv', encoding='iso-8859-1', header=2, sep=';')\n",
        "gripe_2014.head()"
      ],
      "execution_count": 0,
      "outputs": [
        {
          "output_type": "execute_result",
          "data": {
            "text/html": [
              "<div>\n",
              "<style scoped>\n",
              "    .dataframe tbody tr th:only-of-type {\n",
              "        vertical-align: middle;\n",
              "    }\n",
              "\n",
              "    .dataframe tbody tr th {\n",
              "        vertical-align: top;\n",
              "    }\n",
              "\n",
              "    .dataframe thead th {\n",
              "        text-align: right;\n",
              "    }\n",
              "</style>\n",
              "<table border=\"1\" class=\"dataframe\">\n",
              "  <thead>\n",
              "    <tr style=\"text-align: right;\">\n",
              "      <th></th>\n",
              "      <th>Unnamed: 0</th>\n",
              "      <th>Unnamed: 1</th>\n",
              "      <th>Unnamed: 2</th>\n",
              "      <th>Unnamed: 3</th>\n",
              "      <th>Unnamed: 4</th>\n",
              "      <th>Unnamed: 5</th>\n",
              "      <th>Unnamed: 6</th>\n",
              "      <th>POP</th>\n",
              "      <th>Nº vac.</th>\n",
              "      <th>Cob.</th>\n",
              "      <th>POP.1</th>\n",
              "      <th>Nº vac..1</th>\n",
              "      <th>Cob..1</th>\n",
              "      <th>POP.2</th>\n",
              "      <th>Nº vac..2</th>\n",
              "      <th>Cob..2</th>\n",
              "      <th>POP.3</th>\n",
              "      <th>Nº vac..3</th>\n",
              "      <th>Cob..3</th>\n",
              "      <th>POP.4</th>\n",
              "      <th>Nº vac..4</th>\n",
              "      <th>Cob..4</th>\n",
              "      <th>POP.5</th>\n",
              "      <th>Nº vac..5</th>\n",
              "      <th>Cob..5</th>\n",
              "      <th>POP.6</th>\n",
              "      <th>Nº vac..6</th>\n",
              "      <th>Cob..6</th>\n",
              "      <th>Unnamed: 28</th>\n",
              "    </tr>\n",
              "  </thead>\n",
              "  <tbody>\n",
              "    <tr>\n",
              "      <th>0</th>\n",
              "      <td>1</td>\n",
              "      <td>NORTE</td>\n",
              "      <td>AC</td>\n",
              "      <td>1</td>\n",
              "      <td>ALTO ACRE</td>\n",
              "      <td>120005</td>\n",
              "      <td>ASSIS BRASIL</td>\n",
              "      <td>798.000</td>\n",
              "      <td>658.000</td>\n",
              "      <td>82,46</td>\n",
              "      <td>77.0</td>\n",
              "      <td>84.0</td>\n",
              "      <td>109,09</td>\n",
              "      <td>164.0</td>\n",
              "      <td>92.0</td>\n",
              "      <td>56,10</td>\n",
              "      <td>27.0</td>\n",
              "      <td>25.0</td>\n",
              "      <td>92,59</td>\n",
              "      <td>1.453</td>\n",
              "      <td>1.124</td>\n",
              "      <td>77,36</td>\n",
              "      <td>392</td>\n",
              "      <td>248</td>\n",
              "      <td>63,27</td>\n",
              "      <td>2.911</td>\n",
              "      <td>2.231</td>\n",
              "      <td>76,64</td>\n",
              "      <td>NaN</td>\n",
              "    </tr>\n",
              "    <tr>\n",
              "      <th>1</th>\n",
              "      <td>1</td>\n",
              "      <td>NORTE</td>\n",
              "      <td>AC</td>\n",
              "      <td>1</td>\n",
              "      <td>ALTO ACRE</td>\n",
              "      <td>120010</td>\n",
              "      <td>BRASILEIA</td>\n",
              "      <td>2.061</td>\n",
              "      <td>1.557</td>\n",
              "      <td>75,55</td>\n",
              "      <td>426.0</td>\n",
              "      <td>419.0</td>\n",
              "      <td>98,36</td>\n",
              "      <td>378.0</td>\n",
              "      <td>295.0</td>\n",
              "      <td>78,04</td>\n",
              "      <td>62.0</td>\n",
              "      <td>34.0</td>\n",
              "      <td>54,84</td>\n",
              "      <td>0.000</td>\n",
              "      <td>0.000</td>\n",
              "      <td>NaN</td>\n",
              "      <td>1.671</td>\n",
              "      <td>1.499</td>\n",
              "      <td>89,71</td>\n",
              "      <td>4.598</td>\n",
              "      <td>3.804</td>\n",
              "      <td>82,73</td>\n",
              "      <td>NaN</td>\n",
              "    </tr>\n",
              "    <tr>\n",
              "      <th>2</th>\n",
              "      <td>1</td>\n",
              "      <td>NORTE</td>\n",
              "      <td>AC</td>\n",
              "      <td>1</td>\n",
              "      <td>ALTO ACRE</td>\n",
              "      <td>120025</td>\n",
              "      <td>EPITACIOLANDIA</td>\n",
              "      <td>1.352</td>\n",
              "      <td>715.000</td>\n",
              "      <td>52,88</td>\n",
              "      <td>158.0</td>\n",
              "      <td>270.0</td>\n",
              "      <td>170,89</td>\n",
              "      <td>212.0</td>\n",
              "      <td>93.0</td>\n",
              "      <td>43,87</td>\n",
              "      <td>35.0</td>\n",
              "      <td>23.0</td>\n",
              "      <td>65,71</td>\n",
              "      <td>0.000</td>\n",
              "      <td>0.000</td>\n",
              "      <td>NaN</td>\n",
              "      <td>1.182</td>\n",
              "      <td>546</td>\n",
              "      <td>46,19</td>\n",
              "      <td>2.939</td>\n",
              "      <td>1.647</td>\n",
              "      <td>56,04</td>\n",
              "      <td>NaN</td>\n",
              "    </tr>\n",
              "    <tr>\n",
              "      <th>3</th>\n",
              "      <td>1</td>\n",
              "      <td>NORTE</td>\n",
              "      <td>AC</td>\n",
              "      <td>1</td>\n",
              "      <td>ALTO ACRE</td>\n",
              "      <td>120070</td>\n",
              "      <td>XAPURI</td>\n",
              "      <td>1.477</td>\n",
              "      <td>1.070</td>\n",
              "      <td>72,44</td>\n",
              "      <td>180.0</td>\n",
              "      <td>147.0</td>\n",
              "      <td>81,67</td>\n",
              "      <td>233.0</td>\n",
              "      <td>202.0</td>\n",
              "      <td>86,70</td>\n",
              "      <td>38.0</td>\n",
              "      <td>43.0</td>\n",
              "      <td>113,16</td>\n",
              "      <td>0.000</td>\n",
              "      <td>0.000</td>\n",
              "      <td>NaN</td>\n",
              "      <td>1.378</td>\n",
              "      <td>1.187</td>\n",
              "      <td>86,14</td>\n",
              "      <td>3.306</td>\n",
              "      <td>2.649</td>\n",
              "      <td>80,13</td>\n",
              "      <td>NaN</td>\n",
              "    </tr>\n",
              "    <tr>\n",
              "      <th>4</th>\n",
              "      <td>1</td>\n",
              "      <td>NORTE</td>\n",
              "      <td>AC</td>\n",
              "      <td>2</td>\n",
              "      <td>BAIXO ACRE PURUS</td>\n",
              "      <td>120001</td>\n",
              "      <td>ACRELANDIA</td>\n",
              "      <td>1.155</td>\n",
              "      <td>976.000</td>\n",
              "      <td>84,50</td>\n",
              "      <td>163.0</td>\n",
              "      <td>146.0</td>\n",
              "      <td>89,57</td>\n",
              "      <td>190.0</td>\n",
              "      <td>123.0</td>\n",
              "      <td>64,74</td>\n",
              "      <td>31.0</td>\n",
              "      <td>30.0</td>\n",
              "      <td>96,77</td>\n",
              "      <td>0.000</td>\n",
              "      <td>0.000</td>\n",
              "      <td>NaN</td>\n",
              "      <td>886</td>\n",
              "      <td>684</td>\n",
              "      <td>77,20</td>\n",
              "      <td>2.425</td>\n",
              "      <td>1.959</td>\n",
              "      <td>80,78</td>\n",
              "      <td>NaN</td>\n",
              "    </tr>\n",
              "  </tbody>\n",
              "</table>\n",
              "</div>"
            ],
            "text/plain": [
              "   Unnamed: 0 Unnamed: 1 Unnamed: 2  ...  Nº vac..6 Cob..6  Unnamed: 28\n",
              "0           1      NORTE         AC  ...      2.231  76,64          NaN\n",
              "1           1      NORTE         AC  ...      3.804  82,73          NaN\n",
              "2           1      NORTE         AC  ...      1.647  56,04          NaN\n",
              "3           1      NORTE         AC  ...      2.649  80,13          NaN\n",
              "4           1      NORTE         AC  ...      1.959  80,78          NaN\n",
              "\n",
              "[5 rows x 29 columns]"
            ]
          },
          "metadata": {
            "tags": []
          },
          "execution_count": 132
        }
      ]
    },
    {
      "cell_type": "code",
      "metadata": {
        "id": "0Zhcz9CAUD0S",
        "colab_type": "code",
        "outputId": "d23aa0bf-e22e-4ce2-fb81-58b163519310",
        "colab": {
          "base_uri": "https://localhost:8080/",
          "height": 595
        }
      },
      "source": [
        "gripe_2014.info()"
      ],
      "execution_count": 0,
      "outputs": [
        {
          "output_type": "stream",
          "text": [
            "<class 'pandas.core.frame.DataFrame'>\n",
            "RangeIndex: 5565 entries, 0 to 5564\n",
            "Data columns (total 29 columns):\n",
            "Unnamed: 0     5565 non-null int64\n",
            "Unnamed: 1     5565 non-null object\n",
            "Unnamed: 2     5565 non-null object\n",
            "Unnamed: 3     5565 non-null int64\n",
            "Unnamed: 4     5565 non-null object\n",
            "Unnamed: 5     5565 non-null int64\n",
            "Unnamed: 6     5565 non-null object\n",
            "POP            5565 non-null float64\n",
            "Nº vac.        5565 non-null float64\n",
            "Cob.           5565 non-null object\n",
            "POP.1          5565 non-null float64\n",
            "Nº vac..1      5565 non-null float64\n",
            "Cob..1         5557 non-null object\n",
            "POP.2          5565 non-null float64\n",
            "Nº vac..2      5565 non-null float64\n",
            "Cob..2         5565 non-null object\n",
            "POP.3          5565 non-null float64\n",
            "Nº vac..3      5565 non-null float64\n",
            "Cob..3         5565 non-null object\n",
            "POP.4          5565 non-null float64\n",
            "Nº vac..4      5565 non-null float64\n",
            "Cob..4         427 non-null object\n",
            "POP.5          5565 non-null object\n",
            "Nº vac..5      5565 non-null object\n",
            "Cob..5         5565 non-null object\n",
            "POP.6          5565 non-null object\n",
            "Nº vac..6      5565 non-null object\n",
            "Cob..6         5565 non-null object\n",
            "Unnamed: 28    0 non-null float64\n",
            "dtypes: float64(11), int64(3), object(15)\n",
            "memory usage: 1.2+ MB\n"
          ],
          "name": "stdout"
        }
      ]
    },
    {
      "cell_type": "code",
      "metadata": {
        "id": "mPEY0Xjja3wY",
        "colab_type": "code",
        "outputId": "a5fe4c62-1951-4253-90f2-7f6c68f801af",
        "colab": {
          "base_uri": "https://localhost:8080/",
          "height": 204
        }
      },
      "source": [
        "municipios_br.info()"
      ],
      "execution_count": 0,
      "outputs": [
        {
          "output_type": "stream",
          "text": [
            "<class 'pandas.core.frame.DataFrame'>\n",
            "RangeIndex: 5570 entries, 0 to 5569\n",
            "Data columns (total 6 columns):\n",
            "codigo_ibge    5570 non-null int64\n",
            "nome           5570 non-null object\n",
            "latitude       5570 non-null float64\n",
            "longitude      5570 non-null float64\n",
            "capital        5570 non-null int64\n",
            "codigo_uf      5570 non-null int64\n",
            "dtypes: float64(2), int64(3), object(1)\n",
            "memory usage: 261.2+ KB\n"
          ],
          "name": "stdout"
        }
      ]
    },
    {
      "cell_type": "code",
      "metadata": {
        "id": "vSNJuztmT03P",
        "colab_type": "code",
        "colab": {}
      },
      "source": [
        "# gripe_2019[gripe_2019['Unnamed: 6'].str.upper().isin(municipios_br['nome'].str.upper())].info()\n",
        "gripe_2014 = gripe_2014[gripe_2014['Unnamed: 6'].str.upper().isin(municipios_br['nome'].str.upper())]"
      ],
      "execution_count": 0,
      "outputs": []
    },
    {
      "cell_type": "code",
      "metadata": {
        "id": "EAdsCS0Ob_ey",
        "colab_type": "code",
        "outputId": "e1d24842-c611-4759-91da-f920a057f269",
        "colab": {
          "base_uri": "https://localhost:8080/",
          "height": 595
        }
      },
      "source": [
        "gripe_2014.info()"
      ],
      "execution_count": 0,
      "outputs": [
        {
          "output_type": "stream",
          "text": [
            "<class 'pandas.core.frame.DataFrame'>\n",
            "Int64Index: 3167 entries, 0 to 5564\n",
            "Data columns (total 29 columns):\n",
            "Unnamed: 0     3167 non-null int64\n",
            "Unnamed: 1     3167 non-null object\n",
            "Unnamed: 2     3167 non-null object\n",
            "Unnamed: 3     3167 non-null int64\n",
            "Unnamed: 4     3167 non-null object\n",
            "Unnamed: 5     3167 non-null int64\n",
            "Unnamed: 6     3167 non-null object\n",
            "POP            3167 non-null float64\n",
            "Nº vac.        3167 non-null float64\n",
            "Cob.           3167 non-null object\n",
            "POP.1          3167 non-null float64\n",
            "Nº vac..1      3167 non-null float64\n",
            "Cob..1         3164 non-null object\n",
            "POP.2          3167 non-null float64\n",
            "Nº vac..2      3167 non-null float64\n",
            "Cob..2         3167 non-null object\n",
            "POP.3          3167 non-null float64\n",
            "Nº vac..3      3167 non-null float64\n",
            "Cob..3         3167 non-null object\n",
            "POP.4          3167 non-null float64\n",
            "Nº vac..4      3167 non-null float64\n",
            "Cob..4         238 non-null object\n",
            "POP.5          3167 non-null object\n",
            "Nº vac..5      3167 non-null object\n",
            "Cob..5         3167 non-null object\n",
            "POP.6          3167 non-null object\n",
            "Nº vac..6      3167 non-null object\n",
            "Cob..6         3167 non-null object\n",
            "Unnamed: 28    0 non-null float64\n",
            "dtypes: float64(11), int64(3), object(15)\n",
            "memory usage: 742.3+ KB\n"
          ],
          "name": "stdout"
        }
      ]
    },
    {
      "cell_type": "code",
      "metadata": {
        "id": "OkQ1sVIBcCCJ",
        "colab_type": "code",
        "outputId": "041cd2c1-fb59-447b-b2cb-e02eea7e0b0f",
        "colab": {
          "base_uri": "https://localhost:8080/",
          "height": 204
        }
      },
      "source": [
        "gripe_2014 = gripe_2014[['Unnamed: 6', 'POP', 'Nº vac.', 'Cob.']]\n",
        "gripe_2014.columns = ['nome_municipio', 'populacao', 'n_vacinados', 'cobertura']\n",
        "gripe_2014.head()"
      ],
      "execution_count": 0,
      "outputs": [
        {
          "output_type": "execute_result",
          "data": {
            "text/html": [
              "<div>\n",
              "<style scoped>\n",
              "    .dataframe tbody tr th:only-of-type {\n",
              "        vertical-align: middle;\n",
              "    }\n",
              "\n",
              "    .dataframe tbody tr th {\n",
              "        vertical-align: top;\n",
              "    }\n",
              "\n",
              "    .dataframe thead th {\n",
              "        text-align: right;\n",
              "    }\n",
              "</style>\n",
              "<table border=\"1\" class=\"dataframe\">\n",
              "  <thead>\n",
              "    <tr style=\"text-align: right;\">\n",
              "      <th></th>\n",
              "      <th>nome_municipio</th>\n",
              "      <th>populacao</th>\n",
              "      <th>n_vacinados</th>\n",
              "      <th>cobertura</th>\n",
              "    </tr>\n",
              "  </thead>\n",
              "  <tbody>\n",
              "    <tr>\n",
              "      <th>0</th>\n",
              "      <td>ASSIS BRASIL</td>\n",
              "      <td>798.000</td>\n",
              "      <td>658.00</td>\n",
              "      <td>82,46</td>\n",
              "    </tr>\n",
              "    <tr>\n",
              "      <th>3</th>\n",
              "      <td>XAPURI</td>\n",
              "      <td>1.477</td>\n",
              "      <td>1.07</td>\n",
              "      <td>72,44</td>\n",
              "    </tr>\n",
              "    <tr>\n",
              "      <th>5</th>\n",
              "      <td>BUJARI</td>\n",
              "      <td>832.000</td>\n",
              "      <td>819.00</td>\n",
              "      <td>98,44</td>\n",
              "    </tr>\n",
              "    <tr>\n",
              "      <th>6</th>\n",
              "      <td>CAPIXABA</td>\n",
              "      <td>884.000</td>\n",
              "      <td>634.00</td>\n",
              "      <td>71,72</td>\n",
              "    </tr>\n",
              "    <tr>\n",
              "      <th>8</th>\n",
              "      <td>MANOEL URBANO</td>\n",
              "      <td>1.009</td>\n",
              "      <td>800.00</td>\n",
              "      <td>79,29</td>\n",
              "    </tr>\n",
              "  </tbody>\n",
              "</table>\n",
              "</div>"
            ],
            "text/plain": [
              "  nome_municipio  populacao  n_vacinados cobertura\n",
              "0   ASSIS BRASIL    798.000       658.00     82,46\n",
              "3         XAPURI      1.477         1.07     72,44\n",
              "5         BUJARI    832.000       819.00     98,44\n",
              "6       CAPIXABA    884.000       634.00     71,72\n",
              "8  MANOEL URBANO      1.009       800.00     79,29"
            ]
          },
          "metadata": {
            "tags": []
          },
          "execution_count": 137
        }
      ]
    },
    {
      "cell_type": "code",
      "metadata": {
        "id": "YWnFfLuOfDgC",
        "colab_type": "code",
        "colab": {}
      },
      "source": [
        "municipios_br = municipios_br.rename({'nome': 'nome_municipio'}, axis=1)"
      ],
      "execution_count": 0,
      "outputs": []
    },
    {
      "cell_type": "code",
      "metadata": {
        "id": "rbOdyVMydAfQ",
        "colab_type": "code",
        "outputId": "7531277e-f5c5-48c8-e6fd-86204120909c",
        "colab": {
          "base_uri": "https://localhost:8080/",
          "height": 68
        }
      },
      "source": [
        "municipios_br.columns"
      ],
      "execution_count": 0,
      "outputs": [
        {
          "output_type": "execute_result",
          "data": {
            "text/plain": [
              "Index(['codigo_ibge', 'nome_municipio', 'latitude', 'longitude', 'capital',\n",
              "       'codigo_uf'],\n",
              "      dtype='object')"
            ]
          },
          "metadata": {
            "tags": []
          },
          "execution_count": 139
        }
      ]
    },
    {
      "cell_type": "code",
      "metadata": {
        "id": "lhlRJiOxeet7",
        "colab_type": "code",
        "outputId": "bf2654ca-ea03-4aad-e6ae-de5590a61bfc",
        "colab": {
          "base_uri": "https://localhost:8080/",
          "height": 204
        }
      },
      "source": [
        "municipios_br = municipios_br.iloc[:,:4]\n",
        "municipios_br['nome_municipio'] = municipios_br['nome_municipio'].str.upper()\n",
        "municipios_br.head()"
      ],
      "execution_count": 0,
      "outputs": [
        {
          "output_type": "execute_result",
          "data": {
            "text/html": [
              "<div>\n",
              "<style scoped>\n",
              "    .dataframe tbody tr th:only-of-type {\n",
              "        vertical-align: middle;\n",
              "    }\n",
              "\n",
              "    .dataframe tbody tr th {\n",
              "        vertical-align: top;\n",
              "    }\n",
              "\n",
              "    .dataframe thead th {\n",
              "        text-align: right;\n",
              "    }\n",
              "</style>\n",
              "<table border=\"1\" class=\"dataframe\">\n",
              "  <thead>\n",
              "    <tr style=\"text-align: right;\">\n",
              "      <th></th>\n",
              "      <th>codigo_ibge</th>\n",
              "      <th>nome_municipio</th>\n",
              "      <th>latitude</th>\n",
              "      <th>longitude</th>\n",
              "    </tr>\n",
              "  </thead>\n",
              "  <tbody>\n",
              "    <tr>\n",
              "      <th>0</th>\n",
              "      <td>5200050</td>\n",
              "      <td>ABADIA DE GOIÁS</td>\n",
              "      <td>-16.75730</td>\n",
              "      <td>-49.4412</td>\n",
              "    </tr>\n",
              "    <tr>\n",
              "      <th>1</th>\n",
              "      <td>3100104</td>\n",
              "      <td>ABADIA DOS DOURADOS</td>\n",
              "      <td>-18.48310</td>\n",
              "      <td>-47.3916</td>\n",
              "    </tr>\n",
              "    <tr>\n",
              "      <th>2</th>\n",
              "      <td>5200100</td>\n",
              "      <td>ABADIÂNIA</td>\n",
              "      <td>-16.19700</td>\n",
              "      <td>-48.7057</td>\n",
              "    </tr>\n",
              "    <tr>\n",
              "      <th>3</th>\n",
              "      <td>3100203</td>\n",
              "      <td>ABAETÉ</td>\n",
              "      <td>-19.15510</td>\n",
              "      <td>-45.4444</td>\n",
              "    </tr>\n",
              "    <tr>\n",
              "      <th>4</th>\n",
              "      <td>1500107</td>\n",
              "      <td>ABAETETUBA</td>\n",
              "      <td>-1.72183</td>\n",
              "      <td>-48.8788</td>\n",
              "    </tr>\n",
              "  </tbody>\n",
              "</table>\n",
              "</div>"
            ],
            "text/plain": [
              "   codigo_ibge       nome_municipio  latitude  longitude\n",
              "0      5200050      ABADIA DE GOIÁS -16.75730   -49.4412\n",
              "1      3100104  ABADIA DOS DOURADOS -18.48310   -47.3916\n",
              "2      5200100            ABADIÂNIA -16.19700   -48.7057\n",
              "3      3100203               ABAETÉ -19.15510   -45.4444\n",
              "4      1500107           ABAETETUBA  -1.72183   -48.8788"
            ]
          },
          "metadata": {
            "tags": []
          },
          "execution_count": 141
        }
      ]
    },
    {
      "cell_type": "code",
      "metadata": {
        "id": "aCROQhUuTUOX",
        "colab_type": "code",
        "outputId": "479d6247-9b5a-44b2-d3f0-433936e8c16b",
        "colab": {
          "base_uri": "https://localhost:8080/",
          "height": 204
        }
      },
      "source": [
        "gripe_2014_municipio = pd.merge(gripe_2014, municipios_br, on='nome_municipio')\n",
        "gripe_2014_municipio.head()"
      ],
      "execution_count": 0,
      "outputs": [
        {
          "output_type": "execute_result",
          "data": {
            "text/html": [
              "<div>\n",
              "<style scoped>\n",
              "    .dataframe tbody tr th:only-of-type {\n",
              "        vertical-align: middle;\n",
              "    }\n",
              "\n",
              "    .dataframe tbody tr th {\n",
              "        vertical-align: top;\n",
              "    }\n",
              "\n",
              "    .dataframe thead th {\n",
              "        text-align: right;\n",
              "    }\n",
              "</style>\n",
              "<table border=\"1\" class=\"dataframe\">\n",
              "  <thead>\n",
              "    <tr style=\"text-align: right;\">\n",
              "      <th></th>\n",
              "      <th>nome_municipio</th>\n",
              "      <th>populacao</th>\n",
              "      <th>n_vacinados</th>\n",
              "      <th>cobertura</th>\n",
              "      <th>lat</th>\n",
              "      <th>codigo_ibge</th>\n",
              "      <th>latitude</th>\n",
              "      <th>longitude</th>\n",
              "    </tr>\n",
              "  </thead>\n",
              "  <tbody>\n",
              "    <tr>\n",
              "      <th>0</th>\n",
              "      <td>ASSIS BRASIL</td>\n",
              "      <td>798.000</td>\n",
              "      <td>658.00</td>\n",
              "      <td>82,46</td>\n",
              "      <td>-16.75730</td>\n",
              "      <td>1200054</td>\n",
              "      <td>-10.92980</td>\n",
              "      <td>-69.5738</td>\n",
              "    </tr>\n",
              "    <tr>\n",
              "      <th>1</th>\n",
              "      <td>XAPURI</td>\n",
              "      <td>1.477</td>\n",
              "      <td>1.07</td>\n",
              "      <td>72,44</td>\n",
              "      <td>-19.15510</td>\n",
              "      <td>1200708</td>\n",
              "      <td>-10.65160</td>\n",
              "      <td>-68.4969</td>\n",
              "    </tr>\n",
              "    <tr>\n",
              "      <th>2</th>\n",
              "      <td>BUJARI</td>\n",
              "      <td>832.000</td>\n",
              "      <td>819.00</td>\n",
              "      <td>98,44</td>\n",
              "      <td>-7.34588</td>\n",
              "      <td>1200138</td>\n",
              "      <td>-9.81528</td>\n",
              "      <td>-67.9550</td>\n",
              "    </tr>\n",
              "    <tr>\n",
              "      <th>3</th>\n",
              "      <td>CAPIXABA</td>\n",
              "      <td>884.000</td>\n",
              "      <td>634.00</td>\n",
              "      <td>71,72</td>\n",
              "      <td>-13.24880</td>\n",
              "      <td>1200179</td>\n",
              "      <td>-10.56600</td>\n",
              "      <td>-67.6860</td>\n",
              "    </tr>\n",
              "    <tr>\n",
              "      <th>4</th>\n",
              "      <td>MANOEL URBANO</td>\n",
              "      <td>1.009</td>\n",
              "      <td>800.00</td>\n",
              "      <td>79,29</td>\n",
              "      <td>-23.30490</td>\n",
              "      <td>1200344</td>\n",
              "      <td>-8.83291</td>\n",
              "      <td>-69.2679</td>\n",
              "    </tr>\n",
              "  </tbody>\n",
              "</table>\n",
              "</div>"
            ],
            "text/plain": [
              "  nome_municipio  populacao  n_vacinados  ... codigo_ibge  latitude  longitude\n",
              "0   ASSIS BRASIL    798.000       658.00  ...     1200054 -10.92980   -69.5738\n",
              "1         XAPURI      1.477         1.07  ...     1200708 -10.65160   -68.4969\n",
              "2         BUJARI    832.000       819.00  ...     1200138  -9.81528   -67.9550\n",
              "3       CAPIXABA    884.000       634.00  ...     1200179 -10.56600   -67.6860\n",
              "4  MANOEL URBANO      1.009       800.00  ...     1200344  -8.83291   -69.2679\n",
              "\n",
              "[5 rows x 8 columns]"
            ]
          },
          "metadata": {
            "tags": []
          },
          "execution_count": 142
        }
      ]
    },
    {
      "cell_type": "code",
      "metadata": {
        "id": "zWoAYWNpdquE",
        "colab_type": "code",
        "colab": {}
      },
      "source": [
        "gripe_2014_municipio['cobertura'] = pd.to_numeric(gripe_2014_municipio['cobertura'].str.replace(',','.'))"
      ],
      "execution_count": 0,
      "outputs": []
    },
    {
      "cell_type": "code",
      "metadata": {
        "id": "mdMlGIkmgthL",
        "colab_type": "code",
        "outputId": "3603e788-00d2-42c3-81dc-f8d2ec658170",
        "colab": {
          "base_uri": "https://localhost:8080/",
          "height": 187
        }
      },
      "source": [
        "gripe_2014_municipio.info()"
      ],
      "execution_count": 0,
      "outputs": [
        {
          "output_type": "stream",
          "text": [
            "<class 'pandas.core.frame.DataFrame'>\n",
            "Int64Index: 3167 entries, 0 to 5564\n",
            "Data columns (total 5 columns):\n",
            "nome_municipio    3167 non-null object\n",
            "populacao         3167 non-null float64\n",
            "n_vacinados       3167 non-null float64\n",
            "cobertura         3167 non-null float64\n",
            "lat               3167 non-null float64\n",
            "dtypes: float64(4), object(1)\n",
            "memory usage: 148.5+ KB\n"
          ],
          "name": "stdout"
        }
      ]
    },
    {
      "cell_type": "code",
      "metadata": {
        "id": "qedxOugLjx9j",
        "colab_type": "code",
        "colab": {}
      },
      "source": [
        "gripe_2014"
      ],
      "execution_count": 0,
      "outputs": []
    },
    {
      "cell_type": "code",
      "metadata": {
        "id": "77bpZvpokPfl",
        "colab_type": "code",
        "outputId": "352f668e-7e59-4181-e055-d6813d2ee992",
        "colab": {
          "base_uri": "https://localhost:8080/",
          "height": 204
        }
      },
      "source": [
        "gripe_2014.head()"
      ],
      "execution_count": 0,
      "outputs": [
        {
          "output_type": "execute_result",
          "data": {
            "text/html": [
              "<div>\n",
              "<style scoped>\n",
              "    .dataframe tbody tr th:only-of-type {\n",
              "        vertical-align: middle;\n",
              "    }\n",
              "\n",
              "    .dataframe tbody tr th {\n",
              "        vertical-align: top;\n",
              "    }\n",
              "\n",
              "    .dataframe thead th {\n",
              "        text-align: right;\n",
              "    }\n",
              "</style>\n",
              "<table border=\"1\" class=\"dataframe\">\n",
              "  <thead>\n",
              "    <tr style=\"text-align: right;\">\n",
              "      <th></th>\n",
              "      <th>nome_municipio</th>\n",
              "      <th>populacao</th>\n",
              "      <th>n_vacinados</th>\n",
              "      <th>cobertura</th>\n",
              "      <th>lat</th>\n",
              "    </tr>\n",
              "  </thead>\n",
              "  <tbody>\n",
              "    <tr>\n",
              "      <th>0</th>\n",
              "      <td>ASSIS BRASIL</td>\n",
              "      <td>798.000</td>\n",
              "      <td>658.00</td>\n",
              "      <td>82.46</td>\n",
              "      <td>-16.75730</td>\n",
              "    </tr>\n",
              "    <tr>\n",
              "      <th>3</th>\n",
              "      <td>XAPURI</td>\n",
              "      <td>1.477</td>\n",
              "      <td>1.07</td>\n",
              "      <td>72.44</td>\n",
              "      <td>-19.15510</td>\n",
              "    </tr>\n",
              "    <tr>\n",
              "      <th>5</th>\n",
              "      <td>BUJARI</td>\n",
              "      <td>832.000</td>\n",
              "      <td>819.00</td>\n",
              "      <td>98.44</td>\n",
              "      <td>-7.34588</td>\n",
              "    </tr>\n",
              "    <tr>\n",
              "      <th>6</th>\n",
              "      <td>CAPIXABA</td>\n",
              "      <td>884.000</td>\n",
              "      <td>634.00</td>\n",
              "      <td>71.72</td>\n",
              "      <td>-13.24880</td>\n",
              "    </tr>\n",
              "    <tr>\n",
              "      <th>8</th>\n",
              "      <td>MANOEL URBANO</td>\n",
              "      <td>1.009</td>\n",
              "      <td>800.00</td>\n",
              "      <td>79.29</td>\n",
              "      <td>-23.30490</td>\n",
              "    </tr>\n",
              "  </tbody>\n",
              "</table>\n",
              "</div>"
            ],
            "text/plain": [
              "  nome_municipio  populacao  n_vacinados  cobertura       lat\n",
              "0   ASSIS BRASIL    798.000       658.00      82.46 -16.75730\n",
              "3         XAPURI      1.477         1.07      72.44 -19.15510\n",
              "5         BUJARI    832.000       819.00      98.44  -7.34588\n",
              "6       CAPIXABA    884.000       634.00      71.72 -13.24880\n",
              "8  MANOEL URBANO      1.009       800.00      79.29 -23.30490"
            ]
          },
          "metadata": {
            "tags": []
          },
          "execution_count": 166
        }
      ]
    },
    {
      "cell_type": "code",
      "metadata": {
        "id": "taZHybs-hvtu",
        "colab_type": "code",
        "colab": {}
      },
      "source": [
        "gripe_2014_municipio['gmaps_lat'] = gripe_2014_municipio['latitude'].apply(lambda x: 'new google.maps.LatLng({lat}'.format(lat=x))\n",
        "gripe_2014_municipio['gmaps_long'] = gripe_2014_municipio['longitude'].apply(lambda x: ', {long}),'.format(long=x))\n",
        "gripe_2014_municipio['gmaps'] = gripe_2014_municipio['gmaps_lat'] + gripe_2014_municipio['gmaps_long']\n",
        "# gripe_2014['gmaps_long'] = apply(lambda x: ', {long})'.format(long=x))"
      ],
      "execution_count": 0,
      "outputs": []
    },
    {
      "cell_type": "code",
      "metadata": {
        "id": "mtmzJwNMjNwN",
        "colab_type": "code",
        "outputId": "61024036-b357-41f9-fb2a-4fb673d65128",
        "colab": {
          "base_uri": "https://localhost:8080/",
          "height": 326
        }
      },
      "source": [
        "gripe_2014_municipio.head()"
      ],
      "execution_count": 0,
      "outputs": [
        {
          "output_type": "execute_result",
          "data": {
            "text/html": [
              "<div>\n",
              "<style scoped>\n",
              "    .dataframe tbody tr th:only-of-type {\n",
              "        vertical-align: middle;\n",
              "    }\n",
              "\n",
              "    .dataframe tbody tr th {\n",
              "        vertical-align: top;\n",
              "    }\n",
              "\n",
              "    .dataframe thead th {\n",
              "        text-align: right;\n",
              "    }\n",
              "</style>\n",
              "<table border=\"1\" class=\"dataframe\">\n",
              "  <thead>\n",
              "    <tr style=\"text-align: right;\">\n",
              "      <th></th>\n",
              "      <th>nome_municipio</th>\n",
              "      <th>populacao</th>\n",
              "      <th>n_vacinados</th>\n",
              "      <th>cobertura</th>\n",
              "      <th>lat</th>\n",
              "      <th>codigo_ibge</th>\n",
              "      <th>latitude</th>\n",
              "      <th>longitude</th>\n",
              "      <th>gmaps_lat</th>\n",
              "      <th>gmaps_long</th>\n",
              "      <th>gmaps</th>\n",
              "    </tr>\n",
              "  </thead>\n",
              "  <tbody>\n",
              "    <tr>\n",
              "      <th>0</th>\n",
              "      <td>ASSIS BRASIL</td>\n",
              "      <td>798.000</td>\n",
              "      <td>658.00</td>\n",
              "      <td>82,46</td>\n",
              "      <td>-16.75730</td>\n",
              "      <td>1200054</td>\n",
              "      <td>-10.92980</td>\n",
              "      <td>-69.5738</td>\n",
              "      <td>new google.maps.LatLng(-10.9298</td>\n",
              "      <td>, -69.5738),</td>\n",
              "      <td>new google.maps.LatLng(-10.9298, -69.5738),</td>\n",
              "    </tr>\n",
              "    <tr>\n",
              "      <th>1</th>\n",
              "      <td>XAPURI</td>\n",
              "      <td>1.477</td>\n",
              "      <td>1.07</td>\n",
              "      <td>72,44</td>\n",
              "      <td>-19.15510</td>\n",
              "      <td>1200708</td>\n",
              "      <td>-10.65160</td>\n",
              "      <td>-68.4969</td>\n",
              "      <td>new google.maps.LatLng(-10.6516</td>\n",
              "      <td>, -68.4969),</td>\n",
              "      <td>new google.maps.LatLng(-10.6516, -68.4969),</td>\n",
              "    </tr>\n",
              "    <tr>\n",
              "      <th>2</th>\n",
              "      <td>BUJARI</td>\n",
              "      <td>832.000</td>\n",
              "      <td>819.00</td>\n",
              "      <td>98,44</td>\n",
              "      <td>-7.34588</td>\n",
              "      <td>1200138</td>\n",
              "      <td>-9.81528</td>\n",
              "      <td>-67.9550</td>\n",
              "      <td>new google.maps.LatLng(-9.81528</td>\n",
              "      <td>, -67.955),</td>\n",
              "      <td>new google.maps.LatLng(-9.81528, -67.955),</td>\n",
              "    </tr>\n",
              "    <tr>\n",
              "      <th>3</th>\n",
              "      <td>CAPIXABA</td>\n",
              "      <td>884.000</td>\n",
              "      <td>634.00</td>\n",
              "      <td>71,72</td>\n",
              "      <td>-13.24880</td>\n",
              "      <td>1200179</td>\n",
              "      <td>-10.56600</td>\n",
              "      <td>-67.6860</td>\n",
              "      <td>new google.maps.LatLng(-10.565999999999999</td>\n",
              "      <td>, -67.686),</td>\n",
              "      <td>new google.maps.LatLng(-10.565999999999999, -6...</td>\n",
              "    </tr>\n",
              "    <tr>\n",
              "      <th>4</th>\n",
              "      <td>MANOEL URBANO</td>\n",
              "      <td>1.009</td>\n",
              "      <td>800.00</td>\n",
              "      <td>79,29</td>\n",
              "      <td>-23.30490</td>\n",
              "      <td>1200344</td>\n",
              "      <td>-8.83291</td>\n",
              "      <td>-69.2679</td>\n",
              "      <td>new google.maps.LatLng(-8.83291</td>\n",
              "      <td>, -69.2679),</td>\n",
              "      <td>new google.maps.LatLng(-8.83291, -69.2679),</td>\n",
              "    </tr>\n",
              "  </tbody>\n",
              "</table>\n",
              "</div>"
            ],
            "text/plain": [
              "  nome_municipio  ...                                              gmaps\n",
              "0   ASSIS BRASIL  ...        new google.maps.LatLng(-10.9298, -69.5738),\n",
              "1         XAPURI  ...        new google.maps.LatLng(-10.6516, -68.4969),\n",
              "2         BUJARI  ...         new google.maps.LatLng(-9.81528, -67.955),\n",
              "3       CAPIXABA  ...  new google.maps.LatLng(-10.565999999999999, -6...\n",
              "4  MANOEL URBANO  ...        new google.maps.LatLng(-8.83291, -69.2679),\n",
              "\n",
              "[5 rows x 11 columns]"
            ]
          },
          "metadata": {
            "tags": []
          },
          "execution_count": 187
        }
      ]
    },
    {
      "cell_type": "code",
      "metadata": {
        "id": "expUNZa3i-6K",
        "colab_type": "code",
        "outputId": "bf8f6e86-c2c9-43e2-aa71-426bae5fdf41",
        "colab": {
          "base_uri": "https://localhost:8080/",
          "height": 71
        }
      },
      "source": [
        "gripe_2014_municipio.gmaps.to_csv('teste.csv')"
      ],
      "execution_count": 0,
      "outputs": [
        {
          "output_type": "stream",
          "text": [
            "/usr/local/lib/python3.6/dist-packages/ipykernel_launcher.py:1: FutureWarning: The signature of `Series.to_csv` was aligned to that of `DataFrame.to_csv`, and argument 'header' will change its default value from False to True: please pass an explicit value to suppress this warning.\n",
            "  \"\"\"Entry point for launching an IPython kernel.\n"
          ],
          "name": "stderr"
        }
      ]
    },
    {
      "cell_type": "code",
      "metadata": {
        "id": "j1Ne8C-QkwVQ",
        "colab_type": "code",
        "outputId": "be0402dc-ff6b-470d-b5aa-1b55b493ada7",
        "colab": {
          "base_uri": "https://localhost:8080/",
          "height": 71
        }
      },
      "source": [
        "gripe_2014_municipio.gmaps.to_csv('teste3.csv', sep=' ', index=False)"
      ],
      "execution_count": 0,
      "outputs": [
        {
          "output_type": "stream",
          "text": [
            "/usr/local/lib/python3.6/dist-packages/ipykernel_launcher.py:1: FutureWarning: The signature of `Series.to_csv` was aligned to that of `DataFrame.to_csv`, and argument 'header' will change its default value from False to True: please pass an explicit value to suppress this warning.\n",
            "  \"\"\"Entry point for launching an IPython kernel.\n"
          ],
          "name": "stderr"
        }
      ]
    },
    {
      "cell_type": "code",
      "metadata": {
        "id": "mtV-HazwsXdv",
        "colab_type": "code",
        "colab": {}
      },
      "source": [
        "# Run this cell to mount your Google Drive.\n",
        "from google.colab import drive\n",
        "drive.mount('/content/drive')"
      ],
      "execution_count": 0,
      "outputs": []
    },
    {
      "cell_type": "code",
      "metadata": {
        "id": "-ErQ-jDWnUiB",
        "colab_type": "code",
        "outputId": "6572c69f-be0e-4b0a-d485-4e551fb420c9",
        "colab": {
          "base_uri": "https://localhost:8080/",
          "height": 71
        }
      },
      "source": [
        "gripe_2014_municipio[gripe_2014_municipio['cobertura'] < 90]['gmaps'].to_csv('dados_gripe_2014_final.csv', sep=' ', index=False)"
      ],
      "execution_count": 0,
      "outputs": [
        {
          "output_type": "stream",
          "text": [
            "/usr/local/lib/python3.6/dist-packages/ipykernel_launcher.py:1: FutureWarning: The signature of `Series.to_csv` was aligned to that of `DataFrame.to_csv`, and argument 'header' will change its default value from False to True: please pass an explicit value to suppress this warning.\n",
            "  \"\"\"Entry point for launching an IPython kernel.\n"
          ],
          "name": "stderr"
        }
      ]
    },
    {
      "cell_type": "code",
      "metadata": {
        "id": "SA-Kjw08q2HM",
        "colab_type": "code",
        "colab": {}
      },
      "source": [
        ""
      ],
      "execution_count": 0,
      "outputs": []
    }
  ]
}